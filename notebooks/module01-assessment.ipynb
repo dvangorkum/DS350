{
  "nbformat": 4,
  "nbformat_minor": 0,
  "metadata": {
    "colab": {
      "name": "Assessment.ipynb",
      "provenance": [],
      "toc_visible": true
    },
    "kernelspec": {
      "name": "python3",
      "display_name": "Python 3"
    }
  },
  "cells": [
    {
      "cell_type": "markdown",
      "metadata": {
        "id": "E5dpj74Hya2q"
      },
      "source": [
        "# Introduction\n",
        "This assignment will test how well you're able to perform various data science-related tasks.\n",
        "\n",
        "Each Problem Group below will center around a particular dataset that you have worked with before.\n",
        "\n",
        "To ensure you receive full credit for a question, make sure you demonstrate the appropriate pandas, altair, or other commands as requested in the provided code blocks.\n",
        "\n",
        "You may find that some questions require multiple steps to fully answer. Others require some mental arithmetic in addition to pandas commands. Use your best judgment.\n",
        "\n",
        "## Submission\n",
        "Each problem group asks a series of questions. This assignment consists of two submissions:\n",
        "\n",
        "1. After completing the questions below, open the Module 01 Assessment Quiz in Canvas and enter your answers to these questions there.\n",
        "\n",
        "2. After completing and submitting the quiz, save this Colab notebook as a GitHub Gist (You'll need to create a GitHub account for this), by selecting `Save a copy as a GitHub Gist` from the `File` menu above.\n",
        "\n",
        "    In Canvas, open the Module 01 Assessment GitHub Gist assignment and paste the GitHub Gist URL for this notebook. Then submit that assignment."
      ]
    },
    {
      "cell_type": "markdown",
      "metadata": {
        "id": "WgYhh-W3xk4e"
      },
      "source": [
        "## Problem Group 1\n",
        "\n",
        "For the questions in this group, you'll work with the Netflix Movies Dataset found at this url: [https://raw.githubusercontent.com/byui-cse/cse450-course/master/data/netflix_titles.csv](https://raw.githubusercontent.com/byui-cse/cse450-course/master/data/netflix_titles.csv)\n"
      ]
    },
    {
      "cell_type": "markdown",
      "metadata": {
        "id": "kulUs9K7xxB3"
      },
      "source": [
        "### Question 1\n",
        "Load the dataset into a Pandas data frame and determine what data type is used to store the `release_year` feature."
      ]
    },
    {
      "cell_type": "code",
      "metadata": {
        "id": "ecSfSVrsxjx5"
      },
      "source": [],
      "execution_count": null,
      "outputs": []
    },
    {
      "cell_type": "markdown",
      "metadata": {
        "id": "ivpHTGpczpyM"
      },
      "source": [
        "### Question 2\n",
        "Filter your dataset so it contains only `TV Shows`. How many of those TV Shows were rated `TV-Y7`?"
      ]
    },
    {
      "cell_type": "code",
      "metadata": {
        "id": "Zf6QABfXx5Xh"
      },
      "source": [],
      "execution_count": null,
      "outputs": []
    },
    {
      "cell_type": "markdown",
      "metadata": {
        "id": "-esock-41eGo"
      },
      "source": [
        "### Question 3\n",
        "Further filter your dataset so it only contains TV Shows released between the years 2000 and 2009 inclusive. How many of *those* shows were rated `TV-Y7`?"
      ]
    },
    {
      "cell_type": "code",
      "metadata": {
        "id": "cBNHqCgz0WDp"
      },
      "source": [],
      "execution_count": null,
      "outputs": []
    },
    {
      "cell_type": "markdown",
      "metadata": {
        "id": "cB4zmoJm3XDj"
      },
      "source": [
        "## Problem Group 2\n",
        "\n",
        "For the questions in this group, you'll work with the Cereal Dataset found at this url: [https://raw.githubusercontent.com/byui-cse/cse450-course/master/data/cereal.csv](https://raw.githubusercontent.com/byui-cse/cse450-course/master/data/cereal.csv)\n"
      ]
    },
    {
      "cell_type": "markdown",
      "metadata": {
        "id": "BE_TdsHa3sMj"
      },
      "source": [
        "### Question 4\n",
        "After importing the dataset into a pandas data frame, determine the median amount of `protein` in cereal brands manufactured by Kelloggs. (`mfr` code \"K\")"
      ]
    },
    {
      "cell_type": "code",
      "metadata": {
        "id": "fBXFGnfP2tfV"
      },
      "source": [],
      "execution_count": null,
      "outputs": []
    },
    {
      "cell_type": "markdown",
      "metadata": {
        "id": "W3del4PC9NJ-"
      },
      "source": [
        "### Question 5\n",
        "In order to comply with new government regulations, all cereals must now come with a \"Healthiness\" rating. This rating is calculated based on this formula:\n",
        "\n",
        "    healthiness = (protein + fiber) / sugar\n",
        "\n",
        "Create a new `healthiness` column populated with values based on the above formula.\n",
        "\n",
        "Then, determine the median healthiness value for only General Mills cereals (`mfr` = \"G\"), rounded to two decimal places."
      ]
    },
    {
      "cell_type": "code",
      "metadata": {
        "id": "TqFx9yvV6LDX"
      },
      "source": [],
      "execution_count": null,
      "outputs": []
    },
    {
      "cell_type": "markdown",
      "metadata": {
        "id": "AcuUNAxC-g7c"
      },
      "source": [
        "## Problem Group 3\n",
        "\n",
        "For the questions in this group, you'll work with the Titanic Dataset found at this url: [https://raw.githubusercontent.com/byui-cse/cse450-course/master/data/titanic.csv](https://raw.githubusercontent.com/byui-cse/cse450-course/master/data/titanic.csv)"
      ]
    },
    {
      "cell_type": "markdown",
      "metadata": {
        "id": "POOuuXfYAJQK"
      },
      "source": [
        "### Question 6\n",
        "\n",
        "After loading the dataset into a pandas DataFrame, create a new column called `NameGroup` that contains the first letter of the passenger's surname in lower case.\n",
        "\n",
        "Note that in the dataset, passenger's names are provided in the `Name` column and are listed as:\n",
        "\n",
        "    Surname, Given names\n",
        "\n",
        "For example, if a passenger's `Name` is `Braund, Mr. Owen Harris`, the `NameGroup` column should contain the value `b`.\n",
        "\n",
        "Then count how many passengers have a `NameGroup` value of `k`."
      ]
    },
    {
      "cell_type": "code",
      "metadata": {
        "id": "T80gU65-ASFa"
      },
      "source": [],
      "execution_count": null,
      "outputs": []
    },
    {
      "cell_type": "code",
      "metadata": {
        "id": "E81qACTfAWl2"
      },
      "source": [],
      "execution_count": null,
      "outputs": []
    },
    {
      "cell_type": "markdown",
      "metadata": {
        "id": "61af327f"
      },
      "source": [
        "# Task\n",
        "Answer all questions using the \"netflix_titles.csv\", \"cereal.csv\", and \"titanic.csv\" datasets."
      ]
    },
    {
      "cell_type": "markdown",
      "metadata": {
        "id": "bcb01848"
      },
      "source": [
        "## Question 1\n",
        "\n",
        "### Subtask:\n",
        "Load the Netflix dataset, determine and display the data type of the `release_year` column.\n"
      ]
    },
    {
      "cell_type": "markdown",
      "metadata": {
        "id": "789ee905"
      },
      "source": [
        "**Reasoning**:\n",
        "The first step is to load the dataset and display the data type of the 'release_year' column.\n",
        "\n"
      ]
    },
    {
      "cell_type": "code",
      "metadata": {
        "colab": {
          "base_uri": "https://localhost:8080/",
          "height": 34
        },
        "id": "14e4ccbd",
        "outputId": "5394af4c-6db9-4e64-c638-16a5c8e518ab"
      },
      "source": [
        "import pandas as pd\n",
        "\n",
        "df_netflix = pd.read_csv('https://raw.githubusercontent.com/byui-cse/cse450-course/master/data/netflix_titles.csv')\n",
        "display(df_netflix['release_year'].dtype)"
      ],
      "execution_count": 9,
      "outputs": [
        {
          "output_type": "display_data",
          "data": {
            "text/plain": [
              "dtype('int64')"
            ]
          },
          "metadata": {}
        }
      ]
    },
    {
      "cell_type": "markdown",
      "metadata": {
        "id": "0a8cb4a0"
      },
      "source": [
        "## Problem group 1: netflix dataset\n",
        "\n",
        "### Subtask:\n",
        "Filter the Netflix dataset for TV Shows and count how many are rated `TV-Y7`.\n"
      ]
    },
    {
      "cell_type": "markdown",
      "metadata": {
        "id": "48ba88d3"
      },
      "source": [
        "**Reasoning**:\n",
        "Filter the DataFrame for TV Shows and count the number of rows with a 'TV-Y7' rating, then display the count.\n",
        "\n"
      ]
    },
    {
      "cell_type": "code",
      "metadata": {
        "colab": {
          "base_uri": "https://localhost:8080/",
          "height": 34
        },
        "id": "3ac32fc6",
        "outputId": "87f06ee2-b5c2-4097-fde1-0d29869cd3b8"
      },
      "source": [
        "tv_shows_df = df_netflix[df_netflix['type'] == 'TV Show']\n",
        "tv_y7_count = tv_shows_df[tv_shows_df['rating'] == 'TV-Y7'].shape[0]\n",
        "display(tv_y7_count)"
      ],
      "execution_count": 10,
      "outputs": [
        {
          "output_type": "display_data",
          "data": {
            "text/plain": [
              "100"
            ]
          },
          "metadata": {}
        }
      ]
    },
    {
      "cell_type": "markdown",
      "metadata": {
        "id": "30437121"
      },
      "source": [
        "## Problem group 1: netflix dataset\n",
        "\n",
        "### Subtask:\n",
        "Filter the TV Shows dataset to include only those released between 2000 and 2009 inclusive, and count how many of these are rated `TV-Y7`.\n"
      ]
    },
    {
      "cell_type": "markdown",
      "metadata": {
        "id": "c382061e"
      },
      "source": [
        "**Reasoning**:\n",
        "Filter the tv_shows_df to include only TV shows released between 2000 and 2009 (inclusive) and then count the number of those shows rated 'TV-Y7'.\n",
        "\n"
      ]
    },
    {
      "cell_type": "code",
      "metadata": {
        "colab": {
          "base_uri": "https://localhost:8080/",
          "height": 34
        },
        "id": "daa7c94f",
        "outputId": "0b6a64ae-23e5-4a05-b414-3b4ecc5b3127"
      },
      "source": [
        "tv_shows_2000s_df = tv_shows_df[(tv_shows_df['release_year'] >= 2000) & (tv_shows_df['release_year'] <= 2009)]\n",
        "tv_y7_2000s_count = tv_shows_2000s_df[tv_shows_2000s_df['rating'] == 'TV-Y7'].shape[0]\n",
        "display(tv_y7_2000s_count)"
      ],
      "execution_count": 11,
      "outputs": [
        {
          "output_type": "display_data",
          "data": {
            "text/plain": [
              "4"
            ]
          },
          "metadata": {}
        }
      ]
    },
    {
      "cell_type": "markdown",
      "metadata": {
        "id": "16aa18f7"
      },
      "source": [
        "## Problem group 2: cereal dataset\n",
        "\n",
        "### Subtask:\n",
        "Load the Cereal dataset, filter for Kellogg's cereals (`mfr` code \"K\"), and determine the median `protein` amount for this subset.\n"
      ]
    },
    {
      "cell_type": "markdown",
      "metadata": {
        "id": "9ea93299"
      },
      "source": [
        "**Reasoning**:\n",
        "Load the cereal dataset, filter for Kellogg's cereals, calculate the median protein, and display the result.\n",
        "\n"
      ]
    },
    {
      "cell_type": "code",
      "metadata": {
        "colab": {
          "base_uri": "https://localhost:8080/",
          "height": 34
        },
        "id": "45f2929d",
        "outputId": "a1c6ef32-eda8-4293-cf38-8955384cd7a4"
      },
      "source": [
        "df_cereal = pd.read_csv('https://raw.githubusercontent.com/byui-cse/cse450-course/master/data/cereal.csv')\n",
        "kelloggs_cereal_df = df_cereal[df_cereal['mfr'] == 'K']\n",
        "median_protein_kelloggs = kelloggs_cereal_df['protein'].median()\n",
        "display(median_protein_kelloggs)"
      ],
      "execution_count": 12,
      "outputs": [
        {
          "output_type": "display_data",
          "data": {
            "text/plain": [
              "3.0"
            ]
          },
          "metadata": {}
        }
      ]
    },
    {
      "cell_type": "markdown",
      "metadata": {
        "id": "ac0d8f2d"
      },
      "source": [
        "## Problem group 2: cereal dataset\n",
        "\n",
        "### Subtask:\n",
        "Create a new `healthiness` column in the Cereal dataset using the formula `(protein + fiber) / sugar`. Filter for General Mills cereals (`mfr` code \"G\"), calculate the median `healthiness` for this subset, and round the result to two decimal places.\n"
      ]
    },
    {
      "cell_type": "markdown",
      "metadata": {
        "id": "8b76585c"
      },
      "source": [
        "**Reasoning**:\n",
        "Calculate the healthiness column, filter for General Mills cereals, calculate the median healthiness, round the result, and display it.\n",
        "\n"
      ]
    },
    {
      "cell_type": "code",
      "metadata": {
        "colab": {
          "base_uri": "https://localhost:8080/",
          "height": 34
        },
        "id": "2cb9557f",
        "outputId": "49549acd-0bc0-49a0-ea78-6a9a0af2ab41"
      },
      "source": [
        "df_cereal['healthiness'] = (df_cereal['protein'] + df_cereal['fiber']) / df_cereal['sugars']\n",
        "general_mills_cereal_df = df_cereal[df_cereal['mfr'] == 'G']\n",
        "median_healthiness_general_mills = general_mills_cereal_df['healthiness'].median()\n",
        "rounded_median_healthiness = round(median_healthiness_general_mills, 2)\n",
        "display(rounded_median_healthiness)"
      ],
      "execution_count": 19,
      "outputs": [
        {
          "output_type": "display_data",
          "data": {
            "text/plain": [
              "0.47"
            ]
          },
          "metadata": {}
        }
      ]
    },
    {
      "cell_type": "markdown",
      "metadata": {
        "id": "ebe0f3ac"
      },
      "source": [
        "## Problem group 3: titanic dataset\n",
        "\n",
        "### Subtask:\n",
        "Load the Titanic dataset, create a new column `NameGroup` containing the first letter of the surname in lowercase. Count and display the number of passengers with a `NameGroup` value of 'k'."
      ]
    },
    {
      "cell_type": "markdown",
      "metadata": {
        "id": "9297e106"
      },
      "source": [
        "**Reasoning**:\n",
        "Load the Titanic dataset, create the `NameGroup` column by extracting the first letter of the surname, filter for 'k' in `NameGroup`, count the filtered rows, and display the count."
      ]
    },
    {
      "cell_type": "code",
      "metadata": {
        "colab": {
          "base_uri": "https://localhost:8080/",
          "height": 34
        },
        "id": "0e2a8422",
        "outputId": "22387225-8803-4193-aa3f-39979b1aaea8"
      },
      "source": [
        "df_titanic = pd.read_csv('https://raw.githubusercontent.com/byui-cse/cse450-course/master/data/titanic.csv')\n",
        "\n",
        "def get_surname_initial(name):\n",
        "    if ',' in name:\n",
        "        surname = name.split(',')[0]\n",
        "        return surname[0].lower()\n",
        "    return ''\n",
        "\n",
        "df_titanic['NameGroup'] = df_titanic['Name'].apply(get_surname_initial)\n",
        "\n",
        "k_namegroup_count = df_titanic[df_titanic['NameGroup'] == 'k'].shape[0]\n",
        "\n",
        "display(k_namegroup_count)"
      ],
      "execution_count": 18,
      "outputs": [
        {
          "output_type": "display_data",
          "data": {
            "text/plain": [
              "28"
            ]
          },
          "metadata": {}
        }
      ]
    },
    {
      "cell_type": "markdown",
      "metadata": {
        "id": "149a2a43"
      },
      "source": [
        "**Reasoning**:\n",
        "The previous attempt failed because the column 'sugar' was not found. I need to check the available columns in `df_cereal` to make sure the column name is correct, then regenerate the code block.\n",
        "\n"
      ]
    },
    {
      "cell_type": "code",
      "metadata": {
        "colab": {
          "base_uri": "https://localhost:8080/"
        },
        "id": "gVIcBiM7eu0m",
        "outputId": "16db50e2-2705-4dd8-d888-1c99c995da5a"
      },
      "source": [
        "print(df_cereal.columns)"
      ],
      "execution_count": 14,
      "outputs": [
        {
          "output_type": "stream",
          "name": "stdout",
          "text": [
            "Index(['name', 'mfr', 'type', 'calories', 'protein', 'fat', 'sodium', 'fiber',\n",
            "       'carbo', 'sugars', 'potass', 'vitamins', 'shelf', 'weight', 'cups',\n",
            "       'rating'],\n",
            "      dtype='object')\n"
          ]
        }
      ]
    },
    {
      "cell_type": "markdown",
      "metadata": {
        "id": "9e0dbbb7"
      },
      "source": [
        "**Reasoning**:\n",
        "The column name for sugar is 'sugars', not 'sugar'. I will regenerate the code to calculate healthiness, filter, calculate the median, round, and display the result using the correct column name.\n",
        "\n"
      ]
    },
    {
      "cell_type": "code",
      "metadata": {
        "colab": {
          "base_uri": "https://localhost:8080/",
          "height": 34
        },
        "id": "d4ca3b95",
        "outputId": "35ad5ea3-de01-45eb-e410-01b073b68a30"
      },
      "source": [
        "df_cereal['healthiness'] = (df_cereal['protein'] + df_cereal['fiber']) / df_cereal['sugars']\n",
        "general_mills_cereal_df = df_cereal[df_cereal['mfr'] == 'G']\n",
        "median_healthiness_general_mills = general_mills_cereal_df['healthiness'].median()\n",
        "rounded_median_healthiness = round(median_healthiness_general_mills, 2)\n",
        "display(rounded_median_healthiness)"
      ],
      "execution_count": 15,
      "outputs": [
        {
          "output_type": "display_data",
          "data": {
            "text/plain": [
              "0.47"
            ]
          },
          "metadata": {}
        }
      ]
    },
    {
      "cell_type": "markdown",
      "metadata": {
        "id": "9781c3d0"
      },
      "source": [
        "## Problem group 3: titanic dataset\n",
        "\n",
        "### Subtask:\n",
        "Load the Titanic dataset, create a new column `NameGroup` containing the first letter of the surname in lowercase. Count and display the number of passengers with a `NameGroup` value of 'k'.\n"
      ]
    },
    {
      "cell_type": "markdown",
      "metadata": {
        "id": "e9c56c8b"
      },
      "source": [
        "**Reasoning**:\n",
        "Load the Titanic dataset, create the `NameGroup` column by extracting the first letter of the surname, filter for 'k' in `NameGroup`, count the filtered rows, and display the count.\n",
        "\n"
      ]
    },
    {
      "cell_type": "code",
      "metadata": {
        "colab": {
          "base_uri": "https://localhost:8080/",
          "height": 34
        },
        "id": "67b6adc2",
        "outputId": "f1f4e80d-3a42-4dae-d31a-2a1748cb76ff"
      },
      "source": [
        "df_titanic = pd.read_csv('https://raw.githubusercontent.com/byui-cse/cse450-course/master/data/titanic.csv')\n",
        "\n",
        "def get_surname_initial(name):\n",
        "    if ',' in name:\n",
        "        surname = name.split(',')[0]\n",
        "        return surname[0].lower()\n",
        "    return ''\n",
        "\n",
        "df_titanic['NameGroup'] = df_titanic['Name'].apply(get_surname_initial)\n",
        "\n",
        "k_namegroup_count = df_titanic[df_titanic['NameGroup'] == 'k'].shape[0]\n",
        "\n",
        "display(k_namegroup_count)"
      ],
      "execution_count": 16,
      "outputs": [
        {
          "output_type": "display_data",
          "data": {
            "text/plain": [
              "28"
            ]
          },
          "metadata": {}
        }
      ]
    },
    {
      "cell_type": "markdown",
      "metadata": {
        "id": "36d52e17"
      },
      "source": [
        "## Summary:\n",
        "\n",
        "### Q&A\n",
        "*   How many TV Shows in the Netflix dataset are rated TV-Y7?\n",
        "    There are 100 TV Shows in the Netflix dataset that are rated TV-Y7.\n",
        "*   How many TV Shows in the Netflix dataset released between 2000 and 2009 are rated TV-Y7?\n",
        "    There are 4 TV Shows in the Netflix dataset released between 2000 and 2009 that are rated TV-Y7.\n",
        "*   What is the median protein amount for Kellogg's cereals in the Cereal dataset?\n",
        "    The median protein amount for Kellogg's cereals is 3.0.\n",
        "*   What is the median healthiness score for General Mills cereals in the Cereal dataset, rounded to two decimal places?\n",
        "    The median healthiness score for General Mills cereals is 0.47.\n",
        "*   How many passengers in the Titanic dataset have a surname starting with the letter 'K'?\n",
        "    There are 28 passengers in the Titanic dataset whose surname starts with the letter 'K'.\n",
        "\n",
        "### Data Analysis Key Findings\n",
        "*   The `release_year` column in the Netflix dataset has a data type of `int64`.\n",
        "*   There are 100 TV Shows rated `TV-Y7` in the Netflix dataset.\n",
        "*   Out of the TV Shows released between 2000 and 2009, 4 are rated `TV-Y7`.\n",
        "*   The median protein amount for Kellogg's cereals is 3.0.\n",
        "*   The median healthiness score (calculated as `(protein + fiber) / sugars`) for General Mills cereals is 0.47, when rounded to two decimal places.\n",
        "*   There are 28 passengers in the Titanic dataset whose surname begins with the letter 'K'.\n",
        "\n",
        "### Insights or Next Steps\n",
        "*   The relatively low number of TV-Y7 rated shows from 2000-2009 compared to the total suggests a potential shift in content rating distribution over time or a focus on different demographics during that period.\n",
        "*   Analyzing the distribution of healthiness scores across different cereal manufacturers could provide insights into industry trends regarding nutritional content.\n"
      ]
    }
  ]
}